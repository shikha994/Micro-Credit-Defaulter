{
 "cells": [
  {
   "cell_type": "markdown",
   "metadata": {},
   "source": [
    "# Micro Credit Defaulter Project"
   ]
  },
  {
   "cell_type": "markdown",
   "metadata": {},
   "source": [
    "## Problem Statement: \n",
    "\n",
    "A Microfinance Institution (MFI) is an organization that offers financial services to low income populations. MFS becomes very useful when targeting especially the unbanked poor families living in remote areas with not much sources of income. The Microfinance services (MFS) provided by MFI are Group Loans, Agricultural Loans, Individual Business Loans and so on. \n",
    "\n",
    "Many microfinance institutions (MFI), experts and donors are supporting the idea of using mobile financial services (MFS) which they feel are more convenient and efficient, and cost saving, than the traditional high-touch model used since long for the purpose of delivering microfinance services. Though, the MFI industry is primarily focusing on low income families and are very useful in such areas, the implementation of MFS has been uneven with both significant challenges and successes.\n",
    "\n",
    "Today, microfinance is widely accepted as a poverty-reduction tool, representing $70 billion in outstanding loans and a global outreach of 200 million clients. \n",
    "\n",
    "We are working with one such client that is in Telecom Industry. They are a fixed wireless telecommunications network provider. They have launched various products and have developed its business and organization based on the budget operator model, offering better products at Lower Prices to all value conscious customers through a strategy of disruptive innovation that focuses on the subscriber. \n",
    "\n",
    "They understand the importance of communication and how it affects a person’s life, thus, focusing on providing their services and products to low income families and poor customers that can help them in the need of hour. \n",
    "\n",
    "They are collaborating with an MFI to provide micro-credit on mobile balances to be paid back in 5 days. The Consumer is believed to be defaulter if he deviates from the path of paying back the loaned amount within the time duration of 5 days. For the loan amount of 5 (in Indonesian Rupiah), payback amount should be 6 (in Indonesian Rupiah), while, for the loan amount of 10 (in Indonesian Rupiah), the payback amount should be 12 (in Indonesian Rupiah). \n",
    "\n",
    "The sample data is provided to us from our client database. It is hereby given to you for this exercise. In order to improve the selection of customers for the credit, the client wants some predictions that could help them in further investment and improvement in selection of customers. \n",
    "\n",
    "> Exercise:\n",
    "\n",
    "Build a model which can be used to predict in terms of a probability for each loan transaction, whether the customer will be paying back the loaned amount within 5 days of insurance of loan. In this case, Label ‘1’ indicates that the loan has been payed i.e. Non- defaulter, while, Label ‘0’ indicates that the loan has not been payed i.e. defaulter.  \n",
    "\n",
    "> Points to Remember:\n",
    "\n",
    "- There are no null values in the dataset. \n",
    "- There may be some customers with no loan history. \n",
    "- The dataset is imbalanced. Label ‘1’ has approximately 87.5 percent records, while, label ‘0’ has approximately 12.5 percent records.\n",
    "- For some features, there may be values which might not be realistic. You may have to observe them and treat them with a suitable explanation.\n",
    "- You might come across outliers in some features which you need to handle as per your understanding. Keep in mind that data is expensive and we cannot lose more than 7-8 percent of the total data.  "
   ]
  },
  {
   "cell_type": "code",
   "execution_count": null,
   "metadata": {},
   "outputs": [],
   "source": [
    "import warnings\n",
    "warnings.simplefilter(\"ignore\")\n",
    "warnings.filterwarnings(\"ignore\")\n",
    "import joblib\n",
    "import pandas as pd\n",
    "import numpy as np\n",
    "import seaborn as sns\n",
    "import matplotlib.pyplot as plt\n",
    "%matplotlib inline\n",
    "import missingno\n",
    "import pandas_profiling\n",
    "from imblearn.over_sampling import SMOTE\n",
    "from sklearn.preprocessing import StandardScaler\n",
    "from sklearn.model_selection import train_test_split\n",
    "from sklearn.linear_model import LogisticRegression\n",
    "from sklearn.svm import SVC\n",
    "from sklearn.tree import DecisionTreeClassifier\n",
    "from sklearn.ensemble import RandomForestClassifier\n",
    "from sklearn.ensemble import ExtraTreesClassifier\n",
    "from sklearn.neighbors import KNeighborsClassifier\n",
    "import xgboost as xgb\n",
    "import lightgbm as lgb\n",
    "from sklearn import metrics\n",
    "from sklearn.metrics import accuracy_score\n",
    "from sklearn.model_selection import cross_val_score\n",
    "from sklearn.metrics import classification_report\n",
    "from sklearn.model_selection import GridSearchCV\n",
    "from scikitplot.metrics import plot_roc_curve\n",
    "from sklearn.metrics import roc_curve, auc, roc_auc_score"
   ]
  },
  {
   "cell_type": "code",
   "execution_count": null,
   "metadata": {},
   "outputs": [],
   "source": [
    "df=pd.read_csv(\"Data_File.csv\")"
   ]
  },
  {
   "cell_type": "code",
   "execution_count": null,
   "metadata": {},
   "outputs": [],
   "source": [
    "df"
   ]
  },
  {
   "cell_type": "markdown",
   "metadata": {},
   "source": [
    "We're looking at the first five and last five rows of our dataset. It reveals that our dataframe contains a total of 209593 rows and 37 columns. This is a Classification challenge since we have the label column that holds the defaulter and non deafulter values marked with 0 and 1."
   ]
  },
  {
   "cell_type": "markdown",
   "metadata": {},
   "source": [
    "### Exploratory Data Analysis (EDA)"
   ]
  },
  {
   "cell_type": "code",
   "execution_count": null,
   "metadata": {},
   "outputs": [],
   "source": [
    "pd.set_option('display.max_columns', None) \n",
    "pd.set_option('display.max_rows', None) "
   ]
  },
  {
   "cell_type": "code",
   "execution_count": null,
   "metadata": {},
   "outputs": [],
   "source": [
    "df.drop(\"Unnamed: 0\", axis=1, inplace=True)\n",
    "df.head()"
   ]
  },
  {
   "cell_type": "markdown",
   "metadata": {},
   "source": [
    "The \"Unnamed: 0\" column was removed from the dataset since it only stored index data starting at 1 instead of 0 and was not a useful feature column.\n",
    "\n",
    "The remaining columns are as follows:\n",
    "- label\t\t\t\t: Flag indicating whether the user paid back the credit amount within 5 days of issuing the loan {1:success, 0:failure}\n",
    "- msisdn\t\t\t: Mobile number of user\n",
    "- aon\t\t\t\t: Age on cellular network in days\n",
    "- daily_decr30\t\t: Daily amount spent from main account, averaged over last 30 days (in Indonesian Rupiah)\n",
    "- daily_decr90\t\t: Daily amount spent from main account, averaged over last 90 days (in Indonesian Rupiah)\n",
    "- rental30\t\t\t: Average main account balance over last 30 days\n",
    "- rental90\t\t\t: Average main account balance over last 90 days\n",
    "- last_rech_date_ma\t: Number of days till last recharge of main account\n",
    "- last_rech_date_da\t: Number of days till last recharge of data account\n",
    "- last_rech_amt_ma\t: Amount of last recharge of main account (in Indonesian Rupiah)\n",
    "- cnt_ma_rech30\t\t: Number of times main account got recharged in last 30 days\n",
    "- fr_ma_rech30\t\t: Frequency of main account recharged in last 30 days\n",
    "- sumamnt_ma_rech30\t: Total amount of recharge in main account over last 30 days (in Indonesian Rupiah)\n",
    "- medianamnt_ma_rech30\t\t: Median of amount of recharges done in main account over last 30 days at user level (in Indonesian Rupiah)\n",
    "- medianmarechprebal30\t\t: Median of main account balance just before recharge in last 30 days at user level (in Indonesian Rupiah)\n",
    "- cnt_ma_rech90\t\t: Number of times main account got recharged in last 90 days\n",
    "- fr_ma_rech90\t\t: Frequency of main account recharged in last 90 days\n",
    "- sumamnt_ma_rech90\t: Total amount of recharge in main account over last 90 days (in Indonasian Rupiah)\n",
    "- medianamnt_ma_rech90\t\t: Median of amount of recharges done in main account over last 90 days at user level (in Indonasian Rupiah)\n",
    "- medianmarechprebal90\t\t: Median of main account balance just before recharge in last 90 days at user level (in Indonasian Rupiah)\n",
    "- cnt_da_rech30\t\t: Number of times data account got recharged in last 30 days\n",
    "- fr_da_rech30\t\t: Frequency of data account recharged in last 30 days\n",
    "- cnt_da_rech90\t\t: Number of times data account got recharged in last 90 days\n",
    "- fr_da_rech90\t\t: Frequency of data account recharged in last 90 days\n",
    "- cnt_loans30\t\t: Number of loans taken by user in last 30 days\n",
    "- amnt_loans30\t\t: Total amount of loans taken by user in last 30 days\n",
    "- maxamnt_loans30\t: Maximum amount of loan taken by the user in last 30 days\n",
    "- medianamnt_loans30: Median of amounts of loan taken by the user in last 30 days\n",
    "- cnt_loans90\t\t: Number of loans taken by user in last 90 days\n",
    "- amnt_loans90\t\t: Total amount of loans taken by user in last 90 days\n",
    "- maxamnt_loans90\t: Maximum amount of loan taken by the user in last 90 days\n",
    "- medianamnt_loans90: Median of amounts of loan taken by the user in last 90 days\n",
    "- payback30\t\t\t: Average payback time in days over last 30 days\n",
    "- payback90\t\t\t: Average payback time in days over last 90 days\n",
    "- pcircle\t\t\t: Telecom circle\n",
    "- pdate\t\t\t\t: Date"
   ]
  },
  {
   "cell_type": "code",
   "execution_count": null,
   "metadata": {},
   "outputs": [],
   "source": [
    "print(\"We have {} Rows and {} Columns in our dataframe\".format(df.shape[0], df.shape[1]))\n",
    "df.head()"
   ]
  },
  {
   "attachments": {
    "image.png": {
     "image/png": "[encoded data removed]"
    }
   },
   "cell_type": "markdown",
   "metadata": {},
   "source": [
    "Column Description:\n",
    "\n",
    "![image.png](attachment:image.png)"
   ]
  },
  {
   "cell_type": "code",
   "execution_count": null,
   "metadata": {},
   "outputs": [],
   "source": [
    "df.isna().sum()"
   ]
  },
  {
   "cell_type": "markdown",
   "metadata": {},
   "source": [
    "We won't have to worry about missing data because we don't have any missing values."
   ]
  },
  {
   "cell_type": "code",
   "execution_count": null,
   "metadata": {},
   "outputs": [],
   "source": [
    "missingno.bar(df, figsize = (25,5), color=\"tab:green\")"
   ]
  },
  {
   "cell_type": "code",
   "execution_count": null,
   "metadata": {},
   "outputs": [],
   "source": [
    "print(\"Number of Rows is {} and number of Columns is {} before dropping duplicates\".format(df.shape[0], df.shape[1]))\n",
    "df.drop_duplicates(inplace=True)\n",
    "print(\"Number of Rows is {} and number of Columns is {} after dropping duplicates\".format(df.shape[0], df.shape[1]))"
   ]
  },
  {
   "cell_type": "code",
   "execution_count": null,
   "metadata": {},
   "outputs": [],
   "source": [
    "df.info()"
   ]
  },
  {
   "cell_type": "markdown",
   "metadata": {},
   "source": [
    "We can validate the non null count details as well as the datatype information using the 'info' method. We have 21 columns with float/decimal datatypes, 12 columns with integer datatypes, and three columns with object/categorical datatypes. Before we can use the information in our machine learning models, we'll need to transform the object datatype columns to numerical data."
   ]
  },
  {
   "cell_type": "code",
   "execution_count": null,
   "metadata": {},
   "outputs": [],
   "source": [
    "df.describe().T"
   ]
  },
  {
   "cell_type": "markdown",
   "metadata": {},
   "source": [
    "To examine the numerical data specifics, we utilised the 'describe' technique. There are 33 numerical values in the columns, and it appears that the count, mean, standard deviation, minimum value, 25% quartile, 50% quartile, 75% quartile, and maximum value are all mostly properly distributed in terms of data points, but I do see some abnormality that we will confirm with a visual."
   ]
  },
  {
   "cell_type": "code",
   "execution_count": null,
   "metadata": {},
   "outputs": [],
   "source": [
    "# visualizing the statistical description of numeric datatype columns\n",
    "plt.figure(figsize = (20,15))\n",
    "sns.heatmap(round(df.describe()[1:].transpose(),2), linewidth = 2, annot= True, fmt = \".4f\", cmap=\"plasma\")\n",
    "plt.title(\"Satistical Report of Numerical Columns\")\n",
    "plt.xticks(fontsize = 12)\n",
    "plt.yticks(fontsize = 12)\n",
    "plt.show()"
   ]
  },
  {
   "cell_type": "markdown",
   "metadata": {},
   "source": [
    "The highest value for columns aon, daily decr30, daily decr90, rental30, rental90, last rech date ma, last rech date da, fr ma rech30, sumamnt ma rech30, medianmarechprebal30, sumamnt ma rech90, and fr da rech30 is much higher than the other column values in the aforementioned report."
   ]
  },
  {
   "cell_type": "code",
   "execution_count": null,
   "metadata": {},
   "outputs": [],
   "source": [
    "df.nunique().sort_values().to_frame(\"Unique Values\")"
   ]
  },
  {
   "cell_type": "markdown",
   "metadata": {},
   "source": [
    "Column pcircle has a single data value filled in all of the items in the above list, and hence does not contribute much to the output label creation."
   ]
  },
  {
   "cell_type": "code",
   "execution_count": null,
   "metadata": {},
   "outputs": [],
   "source": [
    "df.drop(\"pcircle\", axis=1, inplace=True)"
   ]
  },
  {
   "cell_type": "markdown",
   "metadata": {},
   "source": [
    "The column \"pcircle\" has been eliminated because it does not contribute to label prediction."
   ]
  },
  {
   "cell_type": "code",
   "execution_count": null,
   "metadata": {},
   "outputs": [],
   "source": [
    "df.corr()"
   ]
  },
  {
   "cell_type": "markdown",
   "metadata": {},
   "source": [
    "### Visualization"
   ]
  },
  {
   "cell_type": "code",
   "execution_count": null,
   "metadata": {},
   "outputs": [],
   "source": [
    "pandas_profiling.ProfileReport(df)"
   ]
  },
  {
   "cell_type": "markdown",
   "metadata": {},
   "source": [
    "'pandas-profiling' is an open source Python module that allows us to perform exploratory data analysis in a matter of minutes with just a few lines of code. It creates interactive online reports that may be delivered to anybody, even if they have no programming experience. It also provides report production for the dataset, with a variety of features and customizations. In other words, 'pandas-profiling' saves us the time and effort of visualising and comprehending each variable's distribution. It creates a report with all of the data in one place."
   ]
  },
  {
   "cell_type": "markdown",
   "metadata": {},
   "source": [
    "#### Univariate Analysis"
   ]
  },
  {
   "cell_type": "code",
   "execution_count": null,
   "metadata": {},
   "outputs": [],
   "source": [
    "try:\n",
    "    x = 'label'\n",
    "    k=0\n",
    "    plt.figure(figsize=[5,7])\n",
    "    axes = sns.countplot(df[x])\n",
    "    for i in axes.patches:\n",
    "        ht = i.get_height()\n",
    "        mr = len(df[x])\n",
    "        st = f\"{ht} ({round(ht*100/mr,2)}%)\"\n",
    "        plt.text(k, ht/2, st, ha='center', fontweight='bold')\n",
    "        k += 1\n",
    "    plt.ylim(0,210000)\n",
    "    plt.title(f'Count Plot for {x} column\\n')\n",
    "    plt.ylabel(f'total number of rows covered\\n')\n",
    "    plt.show()\n",
    "    \n",
    "except Exception as e:\n",
    "    print(\"Error:\", e)\n",
    "    pass"
   ]
  },
  {
   "cell_type": "markdown",
   "metadata": {},
   "source": [
    "Our label data is unbalanced, as shown in the above count plot, and will need to be balanced before we feed information into our classification machine learning models."
   ]
  },
  {
   "cell_type": "code",
   "execution_count": null,
   "metadata": {},
   "outputs": [],
   "source": [
    "try:\n",
    "    x = 'maxamnt_loans90'\n",
    "    k=0\n",
    "    plt.figure(figsize=[7,7])\n",
    "    axes = sns.countplot(df[x])\n",
    "    for i in axes.patches:\n",
    "        ht = i.get_height()\n",
    "        mr = len(df[x])\n",
    "        st = f\"{ht} ({round(ht*100/mr,2)}%)\"\n",
    "        plt.text(k, ht/2, st, ha='center', fontweight='bold')\n",
    "        k += 1\n",
    "    plt.ylim(0,210000)\n",
    "    plt.title(f'Count Plot for {x} column\\n')\n",
    "    plt.ylabel(f'total number of rows covered\\n')\n",
    "    plt.show()\n",
    "    \n",
    "except Exception as e:\n",
    "    print(\"Error:\", e)\n",
    "    pass"
   ]
  },
  {
   "cell_type": "code",
   "execution_count": null,
   "metadata": {},
   "outputs": [],
   "source": [
    "try:\n",
    "    x = 'medianamnt_loans30'\n",
    "    k=0\n",
    "    plt.figure(figsize=[15,7])\n",
    "    axes = sns.countplot(df[x])\n",
    "    for i in axes.patches:\n",
    "        ht = i.get_height()\n",
    "        mr = len(df[x])\n",
    "        st = f\"{ht} ({round(ht*100/mr,2)}%)\"\n",
    "        plt.text(k, ht/2, st, ha='center', fontweight='bold')\n",
    "        k += 1\n",
    "    plt.ylim(0,210000)\n",
    "    plt.title(f'Count Plot for {x} column\\n')\n",
    "    plt.ylabel(f'total number of rows covered\\n')\n",
    "    plt.show()\n",
    "    \n",
    "except Exception as e:\n",
    "    print(\"Error:\", e)\n",
    "    pass"
   ]
  },
  {
   "cell_type": "code",
   "execution_count": null,
   "metadata": {},
   "outputs": [],
   "source": [
    "try:\n",
    "    x = 'medianamnt_loans90'\n",
    "    k=0\n",
    "    plt.figure(figsize=[15,7])\n",
    "    axes = sns.countplot(df[x])\n",
    "    for i in axes.patches:\n",
    "        ht = i.get_height()\n",
    "        mr = len(df[x])\n",
    "        st = f\"{ht} ({round(ht*100/mr,2)}%)\"\n",
    "        plt.text(k, ht/2, st, ha='center', fontweight='bold')\n",
    "        k += 1\n",
    "    plt.ylim(0,210000)\n",
    "    plt.title(f'Count Plot for {x} column\\n')\n",
    "    plt.ylabel(f'total number of rows covered\\n')\n",
    "    plt.show()\n",
    "    \n",
    "except Exception as e:\n",
    "    print(\"Error:\", e)\n",
    "    pass"
   ]
  },
  {
   "cell_type": "markdown",
   "metadata": {},
   "source": [
    "We can see the categories included in the columns, as well as the percentage and number of rows covered by each unique value of that column in our dataset, in the above count plots."
   ]
  },
  {
   "cell_type": "markdown",
   "metadata": {},
   "source": [
    "#### Bivariate Analysis"
   ]
  },
  {
   "cell_type": "code",
   "execution_count": null,
   "metadata": {
    "scrolled": false
   },
   "outputs": [],
   "source": [
    "y = 'label'\n",
    "\n",
    "x = 'aon'\n",
    "plt.figure(figsize=[15,7])\n",
    "sns.barplot(x,y,data=df,orient='h')\n",
    "plt.title(f\"Barplot for {x} column vs {y} column\")\n",
    "plt.show()\n",
    "\n",
    "x = 'last_rech_date_da'\n",
    "plt.figure(figsize=[15,7])\n",
    "sns.barplot(x,y,data=df,orient='h')\n",
    "plt.title(f\"Barplot for {x} column vs {y} column\")\n",
    "plt.show()\n",
    "\n",
    "x = 'last_rech_date_ma'\n",
    "plt.figure(figsize=[15,7])\n",
    "sns.barplot(x,y,data=df,orient='h')\n",
    "plt.title(f\"Barplot for {x} column vs {y} column\")\n",
    "plt.show()\n",
    "\n",
    "x = 'last_rech_amt_ma'\n",
    "plt.figure(figsize=[15,7])\n",
    "sns.barplot(x,y,data=df,orient='h')\n",
    "plt.title(f\"Barplot for {x} column vs {y} column\")\n",
    "plt.show()"
   ]
  },
  {
   "cell_type": "markdown",
   "metadata": {},
   "source": [
    "The above bar plots demonstrate whether a user was successful or unsuccessful in returning the credit amount based on the provided feature columns."
   ]
  },
  {
   "cell_type": "code",
   "execution_count": null,
   "metadata": {},
   "outputs": [],
   "source": [
    "df.plot(kind=\"line\", x=\"pdate\", y=[\"last_rech_date_da\", \"last_rech_date_ma\", \"last_rech_amt_ma\"], figsize=[15,10])\n",
    "\n",
    "df.plot(kind=\"line\", x=\"msisdn\", y=[\"last_rech_date_da\", \"last_rech_date_ma\", \"last_rech_amt_ma\"], figsize=[15,10])"
   ]
  },
  {
   "cell_type": "markdown",
   "metadata": {},
   "source": [
    "Line plots for date and mobile number data with daily and monthly recharge information, as well as the amount factor, are shown below."
   ]
  },
  {
   "cell_type": "code",
   "execution_count": null,
   "metadata": {
    "scrolled": false
   },
   "outputs": [],
   "source": [
    "plt.figure(figsize=(15,5))\n",
    "sns.scatterplot(x='medianamnt_loans30', y='medianamnt_loans90', data=df, hue='label')\n",
    "\n",
    "plt.figure(figsize=(15,5))\n",
    "sns.scatterplot(x='maxamnt_loans30', y='maxamnt_loans90', data=df, hue='label')\n",
    "\n",
    "plt.figure(figsize=(15,5))\n",
    "sns.scatterplot(x='cnt_da_rech30', y='cnt_da_rech90', data=df, hue='label')\n",
    "\n",
    "plt.figure(figsize=(15,5))\n",
    "sns.scatterplot(x='cnt_loans30', y='cnt_loans90', data=df, hue='label')\n",
    "\n",
    "plt.figure(figsize=(15,5))\n",
    "sns.scatterplot(x='amnt_loans30', y='amnt_loans90', data=df, hue='label')\n",
    "\n",
    "plt.figure(figsize=(15,5))\n",
    "sns.scatterplot(x='cnt_ma_rech30', y='cnt_ma_rech90', data=df, hue='label')\n",
    "\n",
    "plt.figure(figsize=(15,5))\n",
    "sns.scatterplot(x='fr_da_rech30', y='fr_da_rech90', data=df, hue='label')\n",
    "\n",
    "plt.figure(figsize=(15,5))\n",
    "sns.scatterplot(x='fr_ma_rech30', y='fr_ma_rech90', data=df, hue='label')\n",
    "\n",
    "plt.figure(figsize=(15,5))\n",
    "sns.scatterplot(x='medianamnt_ma_rech30', y='medianamnt_ma_rech90', data=df, hue='label')\n",
    "\n",
    "plt.figure(figsize=(15,5))\n",
    "sns.scatterplot(x='daily_decr30', y='daily_decr90', data=df, hue='label')\n",
    "\n",
    "plt.figure(figsize=(15,5))\n",
    "sns.scatterplot(x='rental30', y='rental90', data=df, hue='label')\n",
    "\n",
    "plt.figure(figsize=(15,5))\n",
    "sns.scatterplot(x='payback30', y='payback90', data=df, hue='label')\n",
    "\n",
    "plt.figure(figsize=(15,5))\n",
    "sns.scatterplot(x='medianmarechprebal30', y='medianmarechprebal90', data=df, hue='label')\n",
    "\n",
    "plt.figure(figsize=(15,5))\n",
    "sns.scatterplot(x='sumamnt_ma_rech30', y='sumamnt_ma_rech90', data=df, hue='label')"
   ]
  },
  {
   "cell_type": "markdown",
   "metadata": {},
   "source": [
    "We can see the data distribution and success failure points on those feature columns using the scatter plot, which also shows any outlier characteristics in the dataset."
   ]
  },
  {
   "cell_type": "markdown",
   "metadata": {},
   "source": [
    "#### Multivariate Analysis"
   ]
  },
  {
   "cell_type": "code",
   "execution_count": null,
   "metadata": {
    "scrolled": false
   },
   "outputs": [],
   "source": [
    "plt.style.use('seaborn-bright')\n",
    "\n",
    "df.hist(figsize=(20,30))\n",
    "plt.show()"
   ]
  },
  {
   "cell_type": "markdown",
   "metadata": {},
   "source": [
    "##### Observation:\n",
    "\n",
    "`for feature aon:`\n",
    "- Data ranges from -48 to 999860 with Mean value of 8112.34.\n",
    "- Data is highly spreaded and needs to be treated accordingly.\n",
    "- Data is positively skewed and needs to be treated accordingly.\n",
    "\n",
    "`for feature daily_descr30:`\n",
    "- Data ranges from -93 to 265926 with Mean value of 5381.4.\n",
    "- Data is highly spreaded and needs to be treated accordingly.\n",
    "- Data is positively skewed and needs to be treated accordingly.\n",
    "\n",
    "`for feature daily_descr90:`\n",
    "- Data ranges from -93 to 320630 with Mean value of 6082.52.\n",
    "- Data is highly spreaded and needs to be treated accordingly.\n",
    "- Data is positively skewed and needs to be treated accordingly.\n",
    "\n",
    "`for feature rental30:`\n",
    "- Data ranges from -23737.14 to 198926 with Mean value of 2692.58.\n",
    "- Data is highly spreaded and needs to be treated accordingly.\n",
    "- Data is positively skewed and needs to be treated accordingly.\n",
    "\n",
    "`for feature rental90:`\n",
    "- Data ranges from -24720 to 200148 with Mean value of 3483.41.\n",
    "- Data is highly spreaded and needs to be treated accordingly.\n",
    "- Data is positively skewed and needs to be treated accordingly.\n",
    "\n",
    "`for feature last_rech_date_ma:`\n",
    "- Data ranges from -29 to 998650 with Mean value of 3755.85.\n",
    "- Data is highly spreaded and needs to be treated accordingly.\n",
    "- Data is positively skewed and needs to be treated accordingly.\n",
    "\n",
    "`for feature last_rech_date_da:`\n",
    "- Data ranges from -29 to 999178 with Mean value of 3712.2.\n",
    "- Data is highly spreaded and needs to be treated accordingly.\n",
    "- Data is positively skewed and needs to be treated accordingly.\n",
    "\n",
    "`for feature last_rech_amt_ma:`\n",
    "- Data ranges from 0 to 55000 with Mean value of 2064.45.\n",
    "- Data is highly spreaded and needs to be treated accordingly.\n",
    "- Data is positively skewed and needs to be treated accordingly.\n",
    "\n",
    "`for feature cnt_ma_rech30:`\n",
    "- Data ranges from 0 to 203 with Mean value of 3.98.\n",
    "- Data is not distributed normally or in well curve.\n",
    "- Data is spreaded and needs to be treated accordingly.\n",
    "- Data is positively skewed and needs to be treated accordingly.\n",
    "\n",
    "`for feature fr_ma_rech30:`\n",
    "- Data ranges from 0 to 999606 with Mean value of 3737.36.\n",
    "- Data is not distributed normally or in well curve.\n",
    "- Data is highly spreaded and needs to be treated accordingly.\n",
    "- Data is positively skewed and needs to be treated accordingly.\n",
    "\n",
    "`for feature sumamnt_ma_rech30:`\n",
    "- Data ranges from 0 to 810096 with Mean value of 7704.5.\n",
    "- Data is not distributed normally or in well curve.\n",
    "- Data is highly spreaded and needs to be treated accordingly.\n",
    "- Data is positively skewed and needs to be treated accordingly.\n",
    "\n",
    "`for feature medianamnt_ma_rech30:`\n",
    "- Data ranges from 0 to 55000 with Mean value of 1812.82.\n",
    "- Data is not distributed normally or in well curve.\n",
    "- Data is highly spreaded and needs to be treated accordingly.\n",
    "- Data is positively skewed and needs to be treated accordingly.\n",
    "\n",
    "`for feature medianmarechprebal30:`\n",
    "- Data ranges from -200 to 999479 with Mean value of 3851.93.\n",
    "- Data is not distributed normally or in well curve.\n",
    "- Data is highly spreaded and needs to be treated accordingly.\n",
    "- Data is positively skewed and needs to be treated accordingly.\n",
    "\n",
    "`for feature cnt_ma_rech90:`\n",
    "- Data ranges from 0 to 336 with Mean value of 6.32.\n",
    "- Data is not distributed normally or in well curve.\n",
    "- Data is highly spreaded and needs to be treated accordingly.\n",
    "- Data is positively skewed and needs to be treated accordingly.\n",
    "\n",
    "`for feature fr_ma_rech90:`\n",
    "- Data ranges from 0 to 88 with Mean value of 7.72.\n",
    "- Data is not distributed normally or in well curve.\n",
    "- Data is highly spreaded and needs to be treated accordingly.\n",
    "- Data is positively skewed and needs to be treated accordingly.\n",
    "\n",
    "`for feature sumamnt_ma_rech90:`\n",
    "- Data ranges from 0 to 953036 with Mean value of 12396.22.\n",
    "- Data is not distributed normally or in well curve.\n",
    "- Data is highly spreaded and needs to be treated accordingly.\n",
    "- Data is positively skewed and needs to be treated accordingly.\n",
    "\n",
    "`for feature medianamnt_ma_rech90:`\n",
    "- Data ranges from 0 to 55000 with Mean value of 1864.6.\n",
    "- Data is not distributed normally or in well curve.\n",
    "- Data is highly spreaded and needs to be treated accordingly.\n",
    "- Data is positively skewed and needs to be treated accordingly.\n",
    "\n",
    "`for feature medianmarechprebal90:`\n",
    "- Data ranges from -200 to 41456 with Mean value of 92.03.\n",
    "- Data is not distributed normally or in well curve.\n",
    "- Data is highly spreaded and needs to be treated accordingly.\n",
    "- Data is positively skewed and needs to be treated accordingly.\n",
    "\n",
    "`for feature cnt_da_rech30:`\n",
    "- Data ranges from 0 to 99914 with Mean value of 262.58.\n",
    "- Data is not distributed normally or in well curve.\n",
    "- Data is highly spreaded and needs to be treated accordingly.\n",
    "- Data is positively skewed and needs to be treated accordingly.\n",
    "\n",
    "`for feature fr_da_rech30:`\n",
    "- Data ranges from 0 to 999809 with Mean value of 3749.49.\n",
    "- Data is not distributed normally or in well curve.\n",
    "- Data is highly spreaded and needs to be treated accordingly.\n",
    "- Data is positively skewed and needs to be treated accordingly.\n",
    "\n",
    "`for feature cnt_da_rech90:`\n",
    "- Data ranges from 0 to 38 with Mean value of 0.04.\n",
    "- Data is distributed normally but not in well curve.\n",
    "- Data is positively skewed and needs to be treated accordingly.\n",
    "\n",
    "`for feature fr_da_rech90:`\n",
    "- Data ranges from 0 to 64 with Mean value of 0.05.\n",
    "- Data is not distributed normally or in well curve.\n",
    "- Data is positively skewed and needs to be treated accordingly.\n",
    "\n",
    "`for feature cnt_loans30:`\n",
    "- Data ranges from 0 to 50 with Mean value of 2.76.\n",
    "- Data is not distributed normally or in well curve.\n",
    "- Data is positively skewed and needs to be treated accordingly.\n",
    "\n",
    "`for feature amnt_loans30:`\n",
    "- Data ranges from 0 to 306 with Mean value of 17.95.\n",
    "- Data is not distributed normally or in well curve.\n",
    "- Data is positively skewed and needs to be treated accordingly.\n",
    "\n",
    "`for feature maxamnt_loans30:`\n",
    "- Data ranges from 0 to 99864 with Mean value of 274.66.\n",
    "- Data is not distributed normally or in well curve.\n",
    "- Data is positively skewed and needs to be treated accordingly.\n",
    "\n",
    "`for feature medianamnt_loans30:`\n",
    "- Data ranges from 0 to 3 with Mean value of 0.05.\n",
    "- Data is not distributed normally or in well curve and it is understandable as feature has only limited set of values.\n",
    "- Data is positively skewed and needs to be treated accordingly.\n",
    "\n",
    "`for feature cnt_loans90:`\n",
    "- Data ranges from 0 to 4997.52 with Mean value of 18.52.\n",
    "- Data is not distributed normally or in well curve.\n",
    "- Data is positively skewed and needs to be treated accordingly.\n",
    "\n",
    "`for feature amnt_loans90:`\n",
    "- Data ranges from 0 to 438 with Mean value of 23.65.\n",
    "- Data is not distributed normally or in well curve.\n",
    "- Data is positively skewed and needs to be treated accordingly.\n",
    "\n",
    "`for feature maxamnt_loans90:`\n",
    "- Data ranges from 0 to 12 with Mean value of 6.7.\n",
    "- Data is not distributed normally or in well curve and it understandable as user has two option for loans i.e., 5 and 10 for with 6 and 12 has to be paid.\n",
    "- Data is positively skewed and needs to be treated accordingly.\n",
    "\n",
    "`for feature medianamnt_loans90:`\n",
    "- Data ranges from 0 to 3 with Mean value of 0.05.\n",
    "- Data is not distributed normally or in well curve.\n",
    "- Data is positively skewed and needs to be treated accordingly.\n",
    "\n",
    "`for feature payback30:`\n",
    "- Data ranges from 0 to 171.5 with Mean value of 3.4.\n",
    "- Data is not distributed normally or in well curve.\n",
    "- Data is positively skewed and needs to be treated accordingly.\n",
    "\n",
    "`for feature payback90:`\n",
    "- Data ranges from 0 to 171.5 with Mean value of 4.32.\n",
    "- Data is not distributed normally or in well curve.\n",
    "- Data is positively skewed and needs to be treated accordingly."
   ]
  },
  {
   "cell_type": "markdown",
   "metadata": {},
   "source": [
    "#### Correlation using a Heatmap\n",
    "\n",
    "- Positive correlation - A correlation of +1 indicates a perfect positive correlation, meaning that both variables move in the same direction together.\n",
    "\n",
    "- Negative correlation - A correlation of –1 indicates a perfect negative correlation, meaning that as one variable goes up, the other goes down."
   ]
  },
  {
   "cell_type": "code",
   "execution_count": null,
   "metadata": {
    "scrolled": false
   },
   "outputs": [],
   "source": [
    "upper_triangle = np.triu(df.corr())\n",
    "plt.figure(figsize=(25,25))\n",
    "sns.heatmap(df.corr(), vmin=-1, vmax=1, annot=True, square=True, fmt='0.3f', \n",
    "            annot_kws={'size':10}, cmap=\"cubehelix\", mask=upper_triangle)\n",
    "plt.xticks(fontsize=14)\n",
    "plt.yticks(fontsize=14)\n",
    "plt.show()"
   ]
  },
  {
   "cell_type": "markdown",
   "metadata": {},
   "source": [
    "We can't see the correlation details in the above heatmap owing to the large number of columns, but we can see the colour coding details and get a signal that there is no multicollinearity worry between the column values."
   ]
  },
  {
   "cell_type": "markdown",
   "metadata": {},
   "source": [
    "#### Correlation Bar Plot comparing Gender column with the remaining columns"
   ]
  },
  {
   "cell_type": "code",
   "execution_count": null,
   "metadata": {},
   "outputs": [],
   "source": [
    "df_corr = df.corr()\n",
    "plt.figure(figsize=(15,5))\n",
    "df_corr['label'].sort_values(ascending=False).drop('label').plot.bar()\n",
    "plt.title(\"Correlation of Feature columns vs Label\\n\", fontsize=16)\n",
    "plt.xlabel(\"\\nFeatures List\", fontsize=14)\n",
    "plt.ylabel(\"Correlation Value\", fontsize=12)\n",
    "plt.show()"
   ]
  },
  {
   "cell_type": "markdown",
   "metadata": {},
   "source": [
    "The feature columns that are favourably associated with our label and the feature columns that are negatively connected with our label are clearly defined in the above Bar Plot."
   ]
  },
  {
   "cell_type": "markdown",
   "metadata": {},
   "source": [
    "## Data Preprocessing"
   ]
  },
  {
   "cell_type": "code",
   "execution_count": null,
   "metadata": {},
   "outputs": [],
   "source": [
    "df['pdate'] = pd.to_datetime(df['pdate'])\n",
    "\n",
    "df['Year']=df['pdate'].dt.year\n",
    "df['Month']=df['pdate'].dt.month\n",
    "df['Date']=df['pdate'].dt.day\n",
    "\n",
    "print(df['Year'].value_counts())\n",
    "print(df['Month'].value_counts())\n",
    "print(df['Date'].value_counts())"
   ]
  },
  {
   "cell_type": "code",
   "execution_count": null,
   "metadata": {},
   "outputs": [],
   "source": [
    "df.drop(columns=['msisdn', 'pdate', 'Year'], axis=1, inplace=True)\n",
    "df.head()"
   ]
  },
  {
   "cell_type": "markdown",
   "metadata": {},
   "source": [
    "### Outliers"
   ]
  },
  {
   "cell_type": "code",
   "execution_count": null,
   "metadata": {
    "scrolled": false
   },
   "outputs": [],
   "source": [
    "plt.figure(figsize=(14,30))\n",
    "outl_df = df.columns.values\n",
    "for i in range(0, len(outl_df)):\n",
    "    plt.subplot(7, 5, i+1)\n",
    "    ax = sns.boxenplot(df[outl_df[i]], color='red')\n",
    "    plt.tight_layout()"
   ]
  },
  {
   "cell_type": "markdown",
   "metadata": {},
   "source": [
    "We can observe the outlier features in our numerical data columns with the use of a boxen plot. However, when I tried to remove the outliers using the Z score or IQR techniques, I lost close to 25% of the data, therefore I kept all of the data points as they were to avoid any NaN results."
   ]
  },
  {
   "cell_type": "markdown",
   "metadata": {},
   "source": [
    "### Skewness"
   ]
  },
  {
   "cell_type": "code",
   "execution_count": null,
   "metadata": {},
   "outputs": [],
   "source": [
    "df.skew()"
   ]
  },
  {
   "cell_type": "markdown",
   "metadata": {},
   "source": [
    "We can observe that there are columns in our dataset that are over the permitted range of +/-0.5 value using the 'skew' approach."
   ]
  },
  {
   "cell_type": "code",
   "execution_count": null,
   "metadata": {
    "scrolled": false
   },
   "outputs": [],
   "source": [
    "plt.figure(figsize=(14,30))\n",
    "for i in range(0, len(outl_df)):\n",
    "    plt.subplot(7, 5, i+1)\n",
    "    ax = sns.distplot(df[outl_df[i]], color='blue')\n",
    "    plt.tight_layout()"
   ]
  },
  {
   "cell_type": "markdown",
   "metadata": {},
   "source": [
    "We can observe the skewness information in our numerical data columns using the distribution plot. I tried using log transformation to lessen the skewness, but that resulted in NaN values in our dataset, therefore I'm attempting to prevent that by utilising somewhat skewed data."
   ]
  },
  {
   "cell_type": "markdown",
   "metadata": {},
   "source": [
    "### Splitting the dataset into 2 variables namely 'X' and 'Y' for feature and label"
   ]
  },
  {
   "cell_type": "code",
   "execution_count": null,
   "metadata": {},
   "outputs": [],
   "source": [
    "X = df.drop('label', axis=1)\n",
    "Y = df['label']"
   ]
  },
  {
   "cell_type": "markdown",
   "metadata": {},
   "source": [
    "The dataset has been divided into features and labels, with X denoting all feature columns and Y denoting the target label column."
   ]
  },
  {
   "cell_type": "markdown",
   "metadata": {},
   "source": [
    "### Resolving the class imbalance issue in our label column"
   ]
  },
  {
   "cell_type": "code",
   "execution_count": null,
   "metadata": {},
   "outputs": [],
   "source": [
    "old_label = Y.value_counts()\n",
    "old_label"
   ]
  },
  {
   "cell_type": "markdown",
   "metadata": {},
   "source": [
    "Counting the number of rows occupied by each category by listing the values of our label column. This indicates a class imbalance that will require the use of the oversampling approach to correct."
   ]
  },
  {
   "cell_type": "code",
   "execution_count": null,
   "metadata": {},
   "outputs": [],
   "source": [
    "# adding samples to make all the categorical label values same\n",
    "oversample = SMOTE()\n",
    "X, Y = oversample.fit_resample(X, Y)"
   ]
  },
  {
   "cell_type": "markdown",
   "metadata": {},
   "source": [
    "The over sampling strategy we're utilising is called 'SMOTE', and it ensures that all of the categories in our target label have the same amount of rows covered."
   ]
  },
  {
   "cell_type": "code",
   "execution_count": null,
   "metadata": {},
   "outputs": [],
   "source": [
    "new_label = Y.value_counts()\n",
    "new_label"
   ]
  },
  {
   "cell_type": "markdown",
   "metadata": {},
   "source": [
    "After applying over sampling, we list the values of our label column once more to double-check the modified data. We can see that the class imbalance problem has been fixed, and all of the categories now have the same data, guaranteeing that the machine learning model is not biassed towards one group."
   ]
  },
  {
   "cell_type": "markdown",
   "metadata": {},
   "source": [
    "### Feature Scaling"
   ]
  },
  {
   "cell_type": "code",
   "execution_count": null,
   "metadata": {},
   "outputs": [],
   "source": [
    "scaler = StandardScaler()\n",
    "X = pd.DataFrame(scaler.fit_transform(X), columns=X.columns)\n",
    "X.head()"
   ]
  },
  {
   "cell_type": "markdown",
   "metadata": {},
   "source": [
    "I'm scaling my feature data to make sure there's no data bias in a particular column, and instead, a standardisation will take place, allowing us to have a consistent dataset value."
   ]
  },
  {
   "cell_type": "markdown",
   "metadata": {},
   "source": [
    "### Finding best random state for building Classification Models"
   ]
  },
  {
   "cell_type": "code",
   "execution_count": null,
   "metadata": {},
   "outputs": [],
   "source": [
    "maxAccu=0\n",
    "maxRS=0\n",
    "\n",
    "for i in range(1, 200):\n",
    "    X_train, X_test, Y_train, Y_test = train_test_split(X, Y, test_size=0.25, random_state=i)\n",
    "    lr=LogisticRegression()\n",
    "    lr.fit(X_train, Y_train)\n",
    "    pred = lr.predict(X_test)\n",
    "    acc_score = (accuracy_score(Y_test, pred))*100\n",
    "    \n",
    "    if acc_score>maxAccu:\n",
    "        maxAccu=acc_score\n",
    "        maxRS=i\n",
    "\n",
    "print(\"Best accuracy score is\", maxAccu,\"on Random State\", maxRS)"
   ]
  },
  {
   "cell_type": "markdown",
   "metadata": {},
   "source": [
    "So, using a random state selection method, we discovered that our fortunate number is \"6\" among the 1-200 range."
   ]
  },
  {
   "cell_type": "markdown",
   "metadata": {},
   "source": [
    "### Feature importance bar graph"
   ]
  },
  {
   "cell_type": "code",
   "execution_count": null,
   "metadata": {},
   "outputs": [],
   "source": [
    "rf=RandomForestClassifier()\n",
    "rf.fit(X_train, Y_train)\n",
    "importances = pd.DataFrame({'Features':X.columns, 'Importance':np.round(rf.feature_importances_,3)})\n",
    "importances = importances.sort_values('Importance', ascending=False).set_index('Features')\n",
    "plt.rcParams[\"figure.figsize\"] = (16,8)\n",
    "importances.plot.bar(color='teal')\n",
    "importances"
   ]
  },
  {
   "cell_type": "code",
   "execution_count": null,
   "metadata": {},
   "outputs": [],
   "source": [
    "plt.rcParams[\"figure.figsize\"] = (16,8)\n",
    "importances.plot.bar(color='teal')"
   ]
  },
  {
   "cell_type": "markdown",
   "metadata": {},
   "source": [
    "We may list the value or priority given to a column based on its involvement or weightage in predicting our label with the aid of 'RandomForestClassifier'."
   ]
  },
  {
   "cell_type": "code",
   "execution_count": null,
   "metadata": {},
   "outputs": [],
   "source": [
    "X.drop([\"last_rech_date_da\", \"cnt_da_rech90\", \"cnt_da_rech30\", \"fr_da_rech30\", \"fr_da_rech90\"], axis=1, inplace=True)"
   ]
  },
  {
   "cell_type": "markdown",
   "metadata": {},
   "source": [
    "To save time processing features that don't help much to label prediction, I deleted the least important columns from our features list.\n"
   ]
  },
  {
   "cell_type": "markdown",
   "metadata": {},
   "source": [
    "### Creating the training and testing data sets with optimum Random State"
   ]
  },
  {
   "cell_type": "code",
   "execution_count": null,
   "metadata": {},
   "outputs": [],
   "source": [
    "X_train, X_test, Y_train, Y_test = train_test_split(X, Y, test_size=0.25, random_state=6)"
   ]
  },
  {
   "cell_type": "markdown",
   "metadata": {},
   "source": [
    "I divided the complete dataset into 75:25 training and testing pieces so that our classification model could learn on the training dataset before evaluating its accuracy on the unknown testing dataset."
   ]
  },
  {
   "cell_type": "markdown",
   "metadata": {},
   "source": [
    "### Machine Learning Model for Classification with Evaluation Metrics"
   ]
  },
  {
   "cell_type": "code",
   "execution_count": null,
   "metadata": {},
   "outputs": [],
   "source": [
    "# Classification Model Function\n",
    "\n",
    "def classify(model_func):\n",
    "    \n",
    "    for model_name, model in model_func.items():\n",
    "        \n",
    "        # Training the model\n",
    "        model.fit(X_train, Y_train)\n",
    "    \n",
    "        # Predicting Y_test\n",
    "        pred = model.predict(X_test)\n",
    "        \n",
    "        print('\\n##############################',model_name,'##############################')\n",
    "        \n",
    "        # Classification Report\n",
    "        class_report = classification_report(Y_test, pred)\n",
    "        print(\"\\nClassification Report for {}:\\n\".format(model_name), class_report)\n",
    "    \n",
    "        # Accuracy Score\n",
    "        acc_score = (accuracy_score(Y_test, pred))*100\n",
    "        print(\"Accuracy Score for {}:\".format(model_name), acc_score)\n",
    "    \n",
    "        # Cross Validation Score\n",
    "        cv_score = (cross_val_score(model, X, Y, cv=5).mean())*100\n",
    "        print(\"Cross Validation Score for {}:\".format(model_name), cv_score)\n",
    "    \n",
    "        # Result of accuracy minus cv scores\n",
    "        result = acc_score - cv_score\n",
    "        print(\"\\nAccuracy Score - Cross Validation Score is\", result)"
   ]
  },
  {
   "cell_type": "markdown",
   "metadata": {},
   "source": [
    "For any machine learning model that calls for this function, I've defined a class that will perform the train-test split, machine learning model training, predicting label value, getting the accuracy score, generating the classification report, getting the cross validation score, and the result of the difference between the accuracy score and cross validation score."
   ]
  },
  {
   "cell_type": "code",
   "execution_count": null,
   "metadata": {
    "scrolled": false
   },
   "outputs": [],
   "source": [
    "LR = LogisticRegression()\n",
    "ETC = ExtraTreesClassifier()\n",
    "SVCM = SVC(C=1.0, kernel='rbf', gamma='auto', random_state=42)\n",
    "DTC = DecisionTreeClassifier(max_depth=15, random_state=21)\n",
    "RFC = RandomForestClassifier(max_depth=15, random_state=111)\n",
    "KNN = KNeighborsClassifier(n_neighbors=15)\n",
    "XGB = xgb.XGBClassifier(verbosity=0)\n",
    "LGBM = lgb.LGBMClassifier()\n",
    "\n",
    "models = {'Logistic Regression' : LR,\n",
    "         'Extra Trees Classifier' : ETC,\n",
    "         'Support Vector Classifier' : SVCM,\n",
    "         'Decision Tree Classifier' : DTC,\n",
    "         'Random Forest Classfier' : RFC,\n",
    "         'K Nearest Neighbors Classifier' : KNN,\n",
    "         'XGB Classifier' : XGB,\n",
    "         'LGBM Classifier' : LGBM}"
   ]
  },
  {
   "cell_type": "code",
   "execution_count": null,
   "metadata": {},
   "outputs": [],
   "source": [
    "classify(models) # calling the Classification Machine Learning model function"
   ]
  },
  {
   "cell_type": "code",
   "execution_count": null,
   "metadata": {},
   "outputs": [],
   "source": [
    "# disp = plot_roc_curve(LR, X_test, Y_test)\n",
    "# plot_roc_curve(ETC, X_test, Y_test, ax=disp.ax_)\n",
    "# plot_roc_curve(SVCM, X_test, Y_test, ax=disp.ax_)\n",
    "# plot_roc_curve(DTC, X_test, Y_test, ax=disp.ax_)\n",
    "# plot_roc_curve(RFC, X_test, Y_test, ax=disp.ax_)\n",
    "# plot_roc_curve(KNN, X_test, Y_test, ax=disp.ax_)\n",
    "# plot_roc_curve(XGB, X_test, Y_test, ax=disp.ax_)\n",
    "# plot_roc_curve(LGBM, X_test, Y_test, ax=disp.ax_)\n",
    "# plt.legend(prop={'size':10}, loc = 'best')\n",
    "# plt.show()"
   ]
  },
  {
   "cell_type": "markdown",
   "metadata": {},
   "source": [
    "### Hyper parameter tuning on the best Classification ML Model"
   ]
  },
  {
   "cell_type": "code",
   "execution_count": null,
   "metadata": {},
   "outputs": [],
   "source": [
    "# Choosing Extra Trees Classifier\n",
    "\n",
    "fmod_param = {'criterion' : [\"gini\", \"entropy\"],\n",
    "              'max_depth' : [30, 40],\n",
    "              'n_estimators' : [300, 350],\n",
    "              'min_samples_split' : [3, 4],\n",
    "              'random_state' : [42, 72]\n",
    "             }\n",
    "\n",
    "GSCV = GridSearchCV(ExtraTreesClassifier(), fmod_param, cv=5)\n",
    "GSCV.fit(X_train,Y_train)\n",
    "GSCV.best_params_"
   ]
  },
  {
   "cell_type": "markdown",
   "metadata": {},
   "source": [
    "After analysing all of the classification models, I chose Extra Trees Classifier as my best model and have written its parameters above using the sklearn website as a reference. For hyper parameter tweaking my best model, I am using the Grid Search CV approach. I've given the Grid Search CV a list of factors that I believe it should look at in order to get the best results. So, out of all of the options it used to train the model, the Grid Search CV has supplied me with the optimal parameters list that I can use on my final model."
   ]
  },
  {
   "cell_type": "code",
   "execution_count": null,
   "metadata": {},
   "outputs": [],
   "source": [
    "Final_Model = ExtraTreesClassifier(criterion=\"entropy\", max_depth=30, min_samples_split=3, \n",
    "                                   n_estimators=350, random_state=72)\n",
    "Classifier = Final_Model.fit(X_train, Y_train)\n",
    "fmod_pred = Final_Model.predict(X_test)\n",
    "fmod_acc = (accuracy_score(Y_test, fmod_pred))*100\n",
    "print(\"Accuracy score for the Best Model is:\", fmod_acc)"
   ]
  },
  {
   "cell_type": "markdown",
   "metadata": {},
   "source": [
    "The Hyper Parameter Tuning was successfully implemented on my Final Model, and I obtained the accuracy score for it."
   ]
  },
  {
   "cell_type": "markdown",
   "metadata": {},
   "source": [
    "### AUC ROC Curve"
   ]
  },
  {
   "cell_type": "code",
   "execution_count": null,
   "metadata": {},
   "outputs": [],
   "source": [
    "disp = metrics.plot_roc_curve(Final_Model, X_test, Y_test)\n",
    "disp.figure_.suptitle(\"ROC Curve\")\n",
    "plt.show()"
   ]
  },
  {
   "cell_type": "markdown",
   "metadata": {},
   "source": [
    "The ROC Curve for my final model has been built, and it displays the AUC score as well as the curve details."
   ]
  },
  {
   "cell_type": "markdown",
   "metadata": {},
   "source": [
    "### Confusion Matrix"
   ]
  },
  {
   "cell_type": "code",
   "execution_count": null,
   "metadata": {},
   "outputs": [],
   "source": [
    "metrics.plot_confusion_matrix(Classifier, X_test, Y_test, cmap='mako')\n",
    "plt.title('\\t Confusion Matrix for the Final Model \\n')\n",
    "plt.show()"
   ]
  },
  {
   "cell_type": "markdown",
   "metadata": {},
   "source": [
    "I can comprehend the number of times I obtained the proper outputs and the number of times my final model failed to produce the correct forecast using the aforesaid confusion matrix (depicting in the black boxes)."
   ]
  },
  {
   "cell_type": "markdown",
   "metadata": {},
   "source": [
    "### Saving the final model"
   ]
  },
  {
   "cell_type": "code",
   "execution_count": null,
   "metadata": {},
   "outputs": [],
   "source": [
    "filename = \"FinalModel_MicroCreditLoanDefaulter.pkl\"\n",
    "joblib.dump(Final_Model, filename)"
   ]
  },
  {
   "cell_type": "markdown",
   "metadata": {},
   "source": [
    "To store the final classification model, I use the joblib option, although it may also be done using pickle."
   ]
  },
  {
   "cell_type": "markdown",
   "metadata": {},
   "source": [
    "### Loading the final model"
   ]
  },
  {
   "cell_type": "code",
   "execution_count": null,
   "metadata": {},
   "outputs": [],
   "source": [
    "load_model = joblib.load(filename)\n",
    "result = load_model.score(X_test, Y_test)*100\n",
    "print(result)"
   ]
  },
  {
   "cell_type": "markdown",
   "metadata": {},
   "source": [
    "Now I'm putting the previously saved final model into our testing dataset to see how it performs. It can, however, be used to test the model on unknown data values and then forecast the label based on the results."
   ]
  },
  {
   "cell_type": "markdown",
   "metadata": {},
   "source": [
    "## Conclusion:\n",
    "\n",
    "> Key Findings and Conclusions of the Study: \n",
    "\n",
    "Based on the different variables taken into account, MFIs can determine whether or not a person will repay money and whether or not an MFI should issue a load to that individual.\n",
    "\n",
    "> Learning Outcomes of the Study in respect of Data Science: \n",
    "\n",
    "For greater accuracy, I developed many classification models rather than relying on a single model, and I used cross validation comparison to guarantee that the model did not suffer from overfitting or underfitting. To improve the scores, I chose the best one and did hyper parameter tuning on it.\n",
    "\n",
    "> Limitations of this work and Scope for Future Work: \n",
    "\n",
    "The limitation is that it will only function for this specific use case, and it will need to be tweaked if used in a new scenario on a similar scale.\n",
    "The scope is that we can use it in companies to determine whether we should provide a loan to a person or not, and we can also make predictions about a person purchasing an expensive service based on personal details that we have in this dataset, such as the number of times the data account has been recharged in the last 30 days and the daily amount spent from the main account, averaged over the last 30 days (in Indonesian Rupiah), so even a marketing firm can use it."
   ]
  },
  {
   "cell_type": "code",
   "execution_count": null,
   "metadata": {},
   "outputs": [],
   "source": []
  }
 ],
 "metadata": {
  "kernelspec": {
   "display_name": "Python 3",
   "language": "python",
   "name": "python3"
  },
  "language_info": {
   "codemirror_mode": {
    "name": "ipython",
    "version": 3
   },
   "file_extension": ".py",
   "mimetype": "text/x-python",
   "name": "python",
   "nbconvert_exporter": "python",
   "pygments_lexer": "ipython3",
   "version": "3.8.5"
  }
 },
 "nbformat": 4,
 "nbformat_minor": 5
}
